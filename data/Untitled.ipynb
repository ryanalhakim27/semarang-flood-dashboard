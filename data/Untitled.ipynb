{
 "cells": [
  {
   "cell_type": "code",
   "execution_count": 1,
   "id": "b80838ec-82ba-4b41-ae29-2286845f3e7c",
   "metadata": {},
   "outputs": [
    {
     "name": "stdout",
     "output_type": "stream",
     "text": [
      "✅ New CSV saved as flood_data_with_latlon.csv\n"
     ]
    },
    {
     "name": "stderr",
     "output_type": "stream",
     "text": [
      "/var/folders/j8/y_9b3dcx03nct600zgv3jf_80000gn/T/ipykernel_12214/3823327406.py:13: UserWarning: Could not infer format, so each element will be parsed individually, falling back to `dateutil`. To ensure parsing is consistent and as-expected, please specify a format.\n",
      "  flood_df['date'] = pd.to_datetime(flood_df['date'], errors='coerce')\n"
     ]
    }
   ],
   "source": [
    "import pandas as pd\n",
    "from pyproj import Transformer\n",
    "\n",
    "# --------------------------\n",
    "# Load your original flood CSV\n",
    "# --------------------------\n",
    "flood_path = \"flood_data.csv\"\n",
    "flood_df = pd.read_csv(flood_path)\n",
    "\n",
    "# --------------------------\n",
    "# Make sure date column is datetime\n",
    "# --------------------------\n",
    "flood_df['date'] = pd.to_datetime(flood_df['date'], errors='coerce')\n",
    "\n",
    "# --------------------------\n",
    "# UTM → Lat/Lon conversion\n",
    "# Assuming all UTM are zone 49S (Semarang)\n",
    "# --------------------------\n",
    "transformer = Transformer.from_crs(\n",
    "    \"+proj=utm +zone=49 +south +datum=WGS84 +units=m +no_defs\",\n",
    "    \"EPSG:4326\",\n",
    "    always_xy=True\n",
    ")\n",
    "\n",
    "# Apply conversion\n",
    "flood_df[['lat','lon']] = flood_df.apply(\n",
    "    lambda row: pd.Series(transformer.transform(row['X'], row['Y'])),\n",
    "    axis=1\n",
    ")\n",
    "\n",
    "# --------------------------\n",
    "# Save new CSV with lat/lon\n",
    "# --------------------------\n",
    "new_path = \"flood_data_with_latlon.csv\"\n",
    "flood_df.to_csv(new_path, index=False, encoding='utf-8-sig')\n",
    "\n",
    "print(f\"✅ New CSV saved as {new_path}\")\n"
   ]
  },
  {
   "cell_type": "code",
   "execution_count": 4,
   "id": "3849556d-3474-44ba-9fa5-29d76449924f",
   "metadata": {},
   "outputs": [
    {
     "data": {
      "text/plain": [
       "X                          float64\n",
       "Y                          float64\n",
       "Natural_disaster            object\n",
       "Name_of_area                object\n",
       "date                datetime64[ns]\n",
       "lat                        float64\n",
       "lon                        float64\n",
       "dtype: object"
      ]
     },
     "execution_count": 4,
     "metadata": {},
     "output_type": "execute_result"
    }
   ],
   "source": [
    "flood_df.dtypes"
   ]
  },
  {
   "cell_type": "code",
   "execution_count": null,
   "id": "ed0e0e67-724a-46e4-b191-7fdd849eb5e2",
   "metadata": {},
   "outputs": [],
   "source": []
  }
 ],
 "metadata": {
  "kernelspec": {
   "display_name": "Python 3 (ipykernel)",
   "language": "python",
   "name": "python3"
  },
  "language_info": {
   "codemirror_mode": {
    "name": "ipython",
    "version": 3
   },
   "file_extension": ".py",
   "mimetype": "text/x-python",
   "name": "python",
   "nbconvert_exporter": "python",
   "pygments_lexer": "ipython3",
   "version": "3.11.13"
  }
 },
 "nbformat": 4,
 "nbformat_minor": 5
}
